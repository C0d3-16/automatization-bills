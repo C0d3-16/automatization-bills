{
  "nbformat": 4,
  "nbformat_minor": 0,
  "metadata": {
    "colab": {
      "provenance": [],
      "gpuType": "T4"
    },
    "kernelspec": {
      "name": "python3",
      "display_name": "Python 3"
    },
    "language_info": {
      "name": "python"
    },
    "accelerator": "GPU"
  },
  "cells": [
    {
      "cell_type": "code",
      "execution_count": null,
      "metadata": {
        "id": "lAuxReMerzH2"
      },
      "outputs": [],
      "source": [
        "!pip install docxtpl"
      ]
    },
    {
      "cell_type": "code",
      "source": [
        "!pip install pandas"
      ],
      "metadata": {
        "id": "mad48mI25s2w"
      },
      "execution_count": null,
      "outputs": []
    },
    {
      "cell_type": "code",
      "source": [
        "!pip install datetime"
      ],
      "metadata": {
        "id": "0Xud5mAi5vHs"
      },
      "execution_count": null,
      "outputs": []
    },
    {
      "cell_type": "code",
      "source": [
        "from datetime import datetime\n",
        "from docxtpl import DocxTemplate"
      ],
      "metadata": {
        "id": "hQM_AwDAuP2F"
      },
      "execution_count": 4,
      "outputs": []
    },
    {
      "cell_type": "code",
      "source": [
        "# Conect your Google Drive with Colab, or can use this .ipynb in local\n",
        "\n",
        "from google.colab import drive\n",
        "\n",
        "drive.mount('/content/gdrive')"
      ],
      "metadata": {
        "colab": {
          "base_uri": "https://localhost:8080/"
        },
        "id": "iTI8yS03sjmC",
        "outputId": "015dcb92-9dd9-4152-e8e9-beeb7ddf19b6"
      },
      "execution_count": 41,
      "outputs": [
        {
          "output_type": "stream",
          "name": "stdout",
          "text": [
            "Drive already mounted at /content/gdrive; to attempt to forcibly remount, call drive.mount(\"/content/gdrive\", force_remount=True).\n"
          ]
        }
      ]
    },
    {
      "cell_type": "code",
      "source": [
        "# Define the Directory\n",
        "\n",
        "ROOT_DIR = '/content/gdrive/MyDrive/automatization-bills'"
      ],
      "metadata": {
        "id": "TKMZUye1s9fF"
      },
      "execution_count": 42,
      "outputs": []
    },
    {
      "cell_type": "code",
      "source": [
        "# Read the template in.docx\n",
        "doc = DocxTemplate(\"example-bills.docx\")"
      ],
      "metadata": {
        "id": "SOk7UeBPtBTu"
      },
      "execution_count": 43,
      "outputs": []
    },
    {
      "cell_type": "code",
      "source": [
        "# This data is for the \"example-bills\", response with your information.\n",
        "NIT = '1036690268'\n",
        "BusinessName = 'Inversores Co S.A'\n",
        "Description = 'Los mejores en importar y exportar productos de Alta Calidad'\n",
        "Date = datetime.today().strftime(\"%d/%m/%Y\")\n",
        "DateExpirationPay = '30 dias'"
      ],
      "metadata": {
        "id": "m7iSjY595_Ts"
      },
      "execution_count": 44,
      "outputs": []
    },
    {
      "cell_type": "code",
      "source": [
        "constantes = {\"NIT\": NIT, \"BusinessName\": BusinessName, \"Description\": Description, \"Date\": Date, \"DateExpirationPay\": DateExpirationPay}"
      ],
      "metadata": {
        "id": "UjyG2fHj_ftW"
      },
      "execution_count": 45,
      "outputs": []
    },
    {
      "cell_type": "code",
      "source": [
        "# Verify the constantes\n",
        "print(constantes)"
      ],
      "metadata": {
        "colab": {
          "base_uri": "https://localhost:8080/"
        },
        "id": "2-BLtDqZvLZD",
        "outputId": "fbbf2407-39e0-49aa-c5cd-482d5c3fe891"
      },
      "execution_count": 46,
      "outputs": [
        {
          "output_type": "stream",
          "name": "stdout",
          "text": [
            "{'NIT': '1036690268', 'BusinessName': 'Inversores Co S.A', 'Description': 'Los mejores en importar y exportar productos de Alta Calidad', 'Date': '02/03/2024', 'DateExpirationPay': '30 dias'}\n"
          ]
        }
      ]
    },
    {
      "cell_type": "code",
      "source": [
        "# Verify the print\n",
        "print(Date)"
      ],
      "metadata": {
        "id": "j-ZB2wzmu9gn",
        "colab": {
          "base_uri": "https://localhost:8080/"
        },
        "outputId": "ad921b99-3ff3-4cf7-af22-5c626bc12779"
      },
      "execution_count": 47,
      "outputs": [
        {
          "output_type": "stream",
          "name": "stdout",
          "text": [
            "02/03/2024\n"
          ]
        }
      ]
    },
    {
      "cell_type": "code",
      "source": [
        "# Define the directory for \"data-excel.xlsx\"\n",
        "import pandas as pd\n",
        "import os\n",
        "\n",
        "os.chdir('/content/gdrive/MyDrive/automatization-bills')\n",
        "df = pd.read_excel(\"data-excel.xlsx\")"
      ],
      "metadata": {
        "id": "vcF2kIj1vJLU"
      },
      "execution_count": 48,
      "outputs": []
    },
    {
      "cell_type": "code",
      "source": [
        "# Show the \"data-excel.xlsx\"\n",
        "df"
      ],
      "metadata": {
        "colab": {
          "base_uri": "https://localhost:8080/",
          "height": 135
        },
        "id": "ZU02ox4UvW4i",
        "outputId": "7156d40b-c47b-4db3-d14f-0cbebc24cef5"
      },
      "execution_count": 49,
      "outputs": [
        {
          "output_type": "execute_result",
          "data": {
            "text/plain": [
              "          Shoper     Buyer TypeID  Identification    AddressBuyer  \\\n",
              "0  Andres Manuel  Diomedez     CC        77006438  Carrera 14-45    \n",
              "\n",
              "  TelephoneBuyer MethodPay            Location  NumberOfSell       NIT  \\\n",
              "0   300 1234 123   Contado  Urb. Casas grandes             1  38242344   \n",
              "\n",
              "  CodeProduct DescriptionProducts  Cant      Und  Subtotal   IVA    Total  \\\n",
              "0   M-3249238           Xiaomi SX     4  1250000   5000000  0.19  5950000   \n",
              "\n",
              "  DateExpiration  TotalFinal  IVAFinal  \n",
              "0        30 Dias     5950000        19  "
            ],
            "text/html": [
              "\n",
              "  <div id=\"df-1e9968b1-4113-4a4f-9867-19a4fa7bb15e\" class=\"colab-df-container\">\n",
              "    <div>\n",
              "<style scoped>\n",
              "    .dataframe tbody tr th:only-of-type {\n",
              "        vertical-align: middle;\n",
              "    }\n",
              "\n",
              "    .dataframe tbody tr th {\n",
              "        vertical-align: top;\n",
              "    }\n",
              "\n",
              "    .dataframe thead th {\n",
              "        text-align: right;\n",
              "    }\n",
              "</style>\n",
              "<table border=\"1\" class=\"dataframe\">\n",
              "  <thead>\n",
              "    <tr style=\"text-align: right;\">\n",
              "      <th></th>\n",
              "      <th>Shoper</th>\n",
              "      <th>Buyer</th>\n",
              "      <th>TypeID</th>\n",
              "      <th>Identification</th>\n",
              "      <th>AddressBuyer</th>\n",
              "      <th>TelephoneBuyer</th>\n",
              "      <th>MethodPay</th>\n",
              "      <th>Location</th>\n",
              "      <th>NumberOfSell</th>\n",
              "      <th>NIT</th>\n",
              "      <th>CodeProduct</th>\n",
              "      <th>DescriptionProducts</th>\n",
              "      <th>Cant</th>\n",
              "      <th>Und</th>\n",
              "      <th>Subtotal</th>\n",
              "      <th>IVA</th>\n",
              "      <th>Total</th>\n",
              "      <th>DateExpiration</th>\n",
              "      <th>TotalFinal</th>\n",
              "      <th>IVAFinal</th>\n",
              "    </tr>\n",
              "  </thead>\n",
              "  <tbody>\n",
              "    <tr>\n",
              "      <th>0</th>\n",
              "      <td>Andres Manuel</td>\n",
              "      <td>Diomedez</td>\n",
              "      <td>CC</td>\n",
              "      <td>77006438</td>\n",
              "      <td>Carrera 14-45</td>\n",
              "      <td>300 1234 123</td>\n",
              "      <td>Contado</td>\n",
              "      <td>Urb. Casas grandes</td>\n",
              "      <td>1</td>\n",
              "      <td>38242344</td>\n",
              "      <td>M-3249238</td>\n",
              "      <td>Xiaomi SX</td>\n",
              "      <td>4</td>\n",
              "      <td>1250000</td>\n",
              "      <td>5000000</td>\n",
              "      <td>0.19</td>\n",
              "      <td>5950000</td>\n",
              "      <td>30 Dias</td>\n",
              "      <td>5950000</td>\n",
              "      <td>19</td>\n",
              "    </tr>\n",
              "  </tbody>\n",
              "</table>\n",
              "</div>\n",
              "    <div class=\"colab-df-buttons\">\n",
              "\n",
              "  <div class=\"colab-df-container\">\n",
              "    <button class=\"colab-df-convert\" onclick=\"convertToInteractive('df-1e9968b1-4113-4a4f-9867-19a4fa7bb15e')\"\n",
              "            title=\"Convert this dataframe to an interactive table.\"\n",
              "            style=\"display:none;\">\n",
              "\n",
              "  <svg xmlns=\"http://www.w3.org/2000/svg\" height=\"24px\" viewBox=\"0 -960 960 960\">\n",
              "    <path d=\"M120-120v-720h720v720H120Zm60-500h600v-160H180v160Zm220 220h160v-160H400v160Zm0 220h160v-160H400v160ZM180-400h160v-160H180v160Zm440 0h160v-160H620v160ZM180-180h160v-160H180v160Zm440 0h160v-160H620v160Z\"/>\n",
              "  </svg>\n",
              "    </button>\n",
              "\n",
              "  <style>\n",
              "    .colab-df-container {\n",
              "      display:flex;\n",
              "      gap: 12px;\n",
              "    }\n",
              "\n",
              "    .colab-df-convert {\n",
              "      background-color: #E8F0FE;\n",
              "      border: none;\n",
              "      border-radius: 50%;\n",
              "      cursor: pointer;\n",
              "      display: none;\n",
              "      fill: #1967D2;\n",
              "      height: 32px;\n",
              "      padding: 0 0 0 0;\n",
              "      width: 32px;\n",
              "    }\n",
              "\n",
              "    .colab-df-convert:hover {\n",
              "      background-color: #E2EBFA;\n",
              "      box-shadow: 0px 1px 2px rgba(60, 64, 67, 0.3), 0px 1px 3px 1px rgba(60, 64, 67, 0.15);\n",
              "      fill: #174EA6;\n",
              "    }\n",
              "\n",
              "    .colab-df-buttons div {\n",
              "      margin-bottom: 4px;\n",
              "    }\n",
              "\n",
              "    [theme=dark] .colab-df-convert {\n",
              "      background-color: #3B4455;\n",
              "      fill: #D2E3FC;\n",
              "    }\n",
              "\n",
              "    [theme=dark] .colab-df-convert:hover {\n",
              "      background-color: #434B5C;\n",
              "      box-shadow: 0px 1px 3px 1px rgba(0, 0, 0, 0.15);\n",
              "      filter: drop-shadow(0px 1px 2px rgba(0, 0, 0, 0.3));\n",
              "      fill: #FFFFFF;\n",
              "    }\n",
              "  </style>\n",
              "\n",
              "    <script>\n",
              "      const buttonEl =\n",
              "        document.querySelector('#df-1e9968b1-4113-4a4f-9867-19a4fa7bb15e button.colab-df-convert');\n",
              "      buttonEl.style.display =\n",
              "        google.colab.kernel.accessAllowed ? 'block' : 'none';\n",
              "\n",
              "      async function convertToInteractive(key) {\n",
              "        const element = document.querySelector('#df-1e9968b1-4113-4a4f-9867-19a4fa7bb15e');\n",
              "        const dataTable =\n",
              "          await google.colab.kernel.invokeFunction('convertToInteractive',\n",
              "                                                    [key], {});\n",
              "        if (!dataTable) return;\n",
              "\n",
              "        const docLinkHtml = 'Like what you see? Visit the ' +\n",
              "          '<a target=\"_blank\" href=https://colab.research.google.com/notebooks/data_table.ipynb>data table notebook</a>'\n",
              "          + ' to learn more about interactive tables.';\n",
              "        element.innerHTML = '';\n",
              "        dataTable['output_type'] = 'display_data';\n",
              "        await google.colab.output.renderOutput(dataTable, element);\n",
              "        const docLink = document.createElement('div');\n",
              "        docLink.innerHTML = docLinkHtml;\n",
              "        element.appendChild(docLink);\n",
              "      }\n",
              "    </script>\n",
              "  </div>\n",
              "\n",
              "    </div>\n",
              "  </div>\n"
            ],
            "application/vnd.google.colaboratory.intrinsic+json": {
              "type": "dataframe",
              "variable_name": "df",
              "summary": "{\n  \"name\": \"df\",\n  \"rows\": 1,\n  \"fields\": [\n    {\n      \"column\": \"Shoper\",\n      \"properties\": {\n        \"dtype\": \"string\",\n        \"num_unique_values\": 1,\n        \"samples\": [\n          \"Andres Manuel\"\n        ],\n        \"semantic_type\": \"\",\n        \"description\": \"\"\n      }\n    },\n    {\n      \"column\": \"Buyer\",\n      \"properties\": {\n        \"dtype\": \"string\",\n        \"num_unique_values\": 1,\n        \"samples\": [\n          \"Diomedez\"\n        ],\n        \"semantic_type\": \"\",\n        \"description\": \"\"\n      }\n    },\n    {\n      \"column\": \"TypeID\",\n      \"properties\": {\n        \"dtype\": \"string\",\n        \"num_unique_values\": 1,\n        \"samples\": [\n          \"CC\"\n        ],\n        \"semantic_type\": \"\",\n        \"description\": \"\"\n      }\n    },\n    {\n      \"column\": \"Identification\",\n      \"properties\": {\n        \"dtype\": \"number\",\n        \"std\": null,\n        \"min\": 77006438,\n        \"max\": 77006438,\n        \"num_unique_values\": 1,\n        \"samples\": [\n          77006438\n        ],\n        \"semantic_type\": \"\",\n        \"description\": \"\"\n      }\n    },\n    {\n      \"column\": \"AddressBuyer\",\n      \"properties\": {\n        \"dtype\": \"string\",\n        \"num_unique_values\": 1,\n        \"samples\": [\n          \"Carrera 14-45 \"\n        ],\n        \"semantic_type\": \"\",\n        \"description\": \"\"\n      }\n    },\n    {\n      \"column\": \"TelephoneBuyer\",\n      \"properties\": {\n        \"dtype\": \"string\",\n        \"num_unique_values\": 1,\n        \"samples\": [\n          \"300 1234 123\"\n        ],\n        \"semantic_type\": \"\",\n        \"description\": \"\"\n      }\n    },\n    {\n      \"column\": \"MethodPay\",\n      \"properties\": {\n        \"dtype\": \"string\",\n        \"num_unique_values\": 1,\n        \"samples\": [\n          \"Contado\"\n        ],\n        \"semantic_type\": \"\",\n        \"description\": \"\"\n      }\n    },\n    {\n      \"column\": \"Location\",\n      \"properties\": {\n        \"dtype\": \"string\",\n        \"num_unique_values\": 1,\n        \"samples\": [\n          \"Urb. Casas grandes\"\n        ],\n        \"semantic_type\": \"\",\n        \"description\": \"\"\n      }\n    },\n    {\n      \"column\": \"NumberOfSell\",\n      \"properties\": {\n        \"dtype\": \"number\",\n        \"std\": null,\n        \"min\": 1,\n        \"max\": 1,\n        \"num_unique_values\": 1,\n        \"samples\": [\n          1\n        ],\n        \"semantic_type\": \"\",\n        \"description\": \"\"\n      }\n    },\n    {\n      \"column\": \"NIT\",\n      \"properties\": {\n        \"dtype\": \"number\",\n        \"std\": null,\n        \"min\": 38242344,\n        \"max\": 38242344,\n        \"num_unique_values\": 1,\n        \"samples\": [\n          38242344\n        ],\n        \"semantic_type\": \"\",\n        \"description\": \"\"\n      }\n    },\n    {\n      \"column\": \"CodeProduct\",\n      \"properties\": {\n        \"dtype\": \"string\",\n        \"num_unique_values\": 1,\n        \"samples\": [\n          \" M-3249238\"\n        ],\n        \"semantic_type\": \"\",\n        \"description\": \"\"\n      }\n    },\n    {\n      \"column\": \"DescriptionProducts\",\n      \"properties\": {\n        \"dtype\": \"string\",\n        \"num_unique_values\": 1,\n        \"samples\": [\n          \"Xiaomi SX\"\n        ],\n        \"semantic_type\": \"\",\n        \"description\": \"\"\n      }\n    },\n    {\n      \"column\": \"Cant\",\n      \"properties\": {\n        \"dtype\": \"number\",\n        \"std\": null,\n        \"min\": 4,\n        \"max\": 4,\n        \"num_unique_values\": 1,\n        \"samples\": [\n          4\n        ],\n        \"semantic_type\": \"\",\n        \"description\": \"\"\n      }\n    },\n    {\n      \"column\": \"Und\",\n      \"properties\": {\n        \"dtype\": \"number\",\n        \"std\": null,\n        \"min\": 1250000,\n        \"max\": 1250000,\n        \"num_unique_values\": 1,\n        \"samples\": [\n          1250000\n        ],\n        \"semantic_type\": \"\",\n        \"description\": \"\"\n      }\n    },\n    {\n      \"column\": \"Subtotal\",\n      \"properties\": {\n        \"dtype\": \"number\",\n        \"std\": null,\n        \"min\": 5000000,\n        \"max\": 5000000,\n        \"num_unique_values\": 1,\n        \"samples\": [\n          5000000\n        ],\n        \"semantic_type\": \"\",\n        \"description\": \"\"\n      }\n    },\n    {\n      \"column\": \"IVA\",\n      \"properties\": {\n        \"dtype\": \"number\",\n        \"std\": null,\n        \"min\": 0.19,\n        \"max\": 0.19,\n        \"num_unique_values\": 1,\n        \"samples\": [\n          0.19\n        ],\n        \"semantic_type\": \"\",\n        \"description\": \"\"\n      }\n    },\n    {\n      \"column\": \"Total\",\n      \"properties\": {\n        \"dtype\": \"number\",\n        \"std\": null,\n        \"min\": 5950000,\n        \"max\": 5950000,\n        \"num_unique_values\": 1,\n        \"samples\": [\n          5950000\n        ],\n        \"semantic_type\": \"\",\n        \"description\": \"\"\n      }\n    },\n    {\n      \"column\": \"DateExpiration\",\n      \"properties\": {\n        \"dtype\": \"string\",\n        \"num_unique_values\": 1,\n        \"samples\": [\n          \"30 Dias\"\n        ],\n        \"semantic_type\": \"\",\n        \"description\": \"\"\n      }\n    },\n    {\n      \"column\": \"TotalFinal\",\n      \"properties\": {\n        \"dtype\": \"number\",\n        \"std\": null,\n        \"min\": 5950000,\n        \"max\": 5950000,\n        \"num_unique_values\": 1,\n        \"samples\": [\n          5950000\n        ],\n        \"semantic_type\": \"\",\n        \"description\": \"\"\n      }\n    },\n    {\n      \"column\": \"IVAFinal\",\n      \"properties\": {\n        \"dtype\": \"number\",\n        \"std\": null,\n        \"min\": 19,\n        \"max\": 19,\n        \"num_unique_values\": 1,\n        \"samples\": [\n          19\n        ],\n        \"semantic_type\": \"\",\n        \"description\": \"\"\n      }\n    }\n  ]\n}"
            }
          },
          "metadata": {},
          "execution_count": 49
        }
      ]
    },
    {
      "cell_type": "code",
      "source": [
        "# Complete the content with information of \"data-excel.xlsx\"\n",
        "for indice, fila in df.iterrows():\n",
        "    content = {\n",
        "        'Shoper': fila ['Shoper'],\n",
        "        'Buyer': fila['Buyer'],\n",
        "        'TypeID': fila['TypeID'],\n",
        "        'Identification': fila['Identification'],\n",
        "        'AddressBuyer': fila['AddressBuyer'],\n",
        "        'TelephoneBuyer': fila['TelephoneBuyer'],\n",
        "        'MethodPay': fila['MethodPay'],\n",
        "        'Location': fila ['Location'],\n",
        "        'NumberOfSell': fila ['NumberOfSell'],\n",
        "        'NIT': fila['NIT'],\n",
        "         #\n",
        "        'CodeProduct': fila['CodeProduct'],\n",
        "        'DescriptionProducts': fila['DescriptionProducts'],\n",
        "        'Cant': fila ['Cant'],\n",
        "        'Und': fila ['Und'],\n",
        "        #\n",
        "        'Subtotal': fila['Subtotal'],\n",
        "        'IVA': fila ['IVA'],\n",
        "        'Total': fila ['Total'],\n",
        "        'DateExpiration': fila ['DateExpiration'],\n",
        "        #\n",
        "        'IVAFinal': fila ['IVAFinal'],\n",
        "        'TotalFinal': fila ['TotalFinal'],\n",
        "        'DateExpiration': fila ['DateExpiration']\n",
        "    }\n",
        "    # Verify the content\n",
        "    print(content)"
      ],
      "metadata": {
        "id": "430gpXvEyua8",
        "colab": {
          "base_uri": "https://localhost:8080/"
        },
        "outputId": "c50c4197-133d-4b70-9979-fea1c6c99c05"
      },
      "execution_count": 50,
      "outputs": [
        {
          "output_type": "stream",
          "name": "stdout",
          "text": [
            "{'Shoper': 'Andres Manuel', 'Buyer': 'Diomedez', 'TypeID': 'CC', 'Identification': 77006438, 'AddressBuyer': 'Carrera 14-45 ', 'TelephoneBuyer': '300 1234 123', 'MethodPay': 'Contado', 'Location': 'Urb. Casas grandes', 'NumberOfSell': 1, 'NIT': 38242344, 'CodeProduct': ' M-3249238', 'DescriptionProducts': 'Xiaomi SX', 'Cant': 4, 'Und': 1250000, 'Subtotal': 5000000, 'IVA': 0.19, 'Total': 5950000, 'DateExpiration': '30 Dias', 'IVAFinal': 19, 'TotalFinal': 5950000}\n"
          ]
        }
      ]
    },
    {
      "cell_type": "code",
      "source": [
        "# Update the contend and we render for save the doc with the information\n",
        "content.update(constantes)\n",
        "doc.render(content)\n",
        "doc.save(f\"Factura de {fila['Buyer']}.docx\")"
      ],
      "metadata": {
        "id": "ZRw8s-Qsyy2k"
      },
      "execution_count": 52,
      "outputs": []
    }
  ]
}